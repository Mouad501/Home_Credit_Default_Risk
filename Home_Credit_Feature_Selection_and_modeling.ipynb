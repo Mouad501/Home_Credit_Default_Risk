{
 "cells": [
  {
   "cell_type": "markdown",
   "metadata": {},
   "source": [
    "# HOME CREDIT DEFAULT RISK\n",
    "\n",
    "# Feature Engineering"
   ]
  },
  {
   "cell_type": "markdown",
   "metadata": {},
   "source": [
    "Apart from generating important/useful features, it is also critical to remove redundant and noisy features. We need to focus on Data Cleaning and Feature Selection techniques as well. let’s get started."
   ]
  },
  {
   "cell_type": "code",
   "execution_count": 2,
   "metadata": {},
   "outputs": [],
   "source": [
    "# import libraries\n",
    "\n",
    "import pandas as pd\n",
    "import numpy as np\n",
    "from matplotlib import pyplot as plt\n",
    "import seaborn as sns\n",
    "sns.set_style(\"darkgrid\")\n",
    "\n",
    "from datetime import datetime\n",
    "\n",
    "import gc\n",
    "import warnings\n",
    "warnings.filterwarnings('ignore')\n",
    "\n",
    "from sklearn.preprocessing import StandardScaler\n",
    "from sklearn.model_selection import train_test_split\n",
    "from sklearn.model_selection import StratifiedKFold\n",
    "from sklearn.model_selection import RandomizedSearchCV\n",
    "from sklearn.metrics import roc_auc_score\n",
    "from sklearn.metrics import precision_score\n",
    "from sklearn.metrics import recall_score\n",
    "from sklearn.metrics import roc_curve\n",
    "from sklearn.metrics import confusion_matrix\n",
    "from sklearn.neighbors import KNeighborsClassifier\n",
    "from sklearn.linear_model import SGDClassifier\n",
    "from sklearn.ensemble import RandomForestClassifier\n",
    "from sklearn.ensemble import ExtraTreesClassifier\n",
    "from sklearn.calibration import CalibratedClassifierCV\n",
    "\n",
    "#other modelling libraries\n",
    "from bayes_opt import BayesianOptimization\n",
    "import xgboost as xgb\n",
    "from xgboost import XGBClassifier\n",
    "from xgboost import XGBRegressor\n",
    "\n",
    "import lightgbm as lgb\n",
    "from lightgbm import LGBMClassifier\n",
    "from lightgbm import LGBMRegressor\n"
   ]
  },
  {
   "cell_type": "markdown",
   "metadata": {},
   "source": [
    "**Defining Utility Functions**"
   ]
  },
  {
   "cell_type": "code",
   "execution_count": 2,
   "metadata": {},
   "outputs": [],
   "source": [
    "def reduce_mem_usage(data, verbose = True):\n",
    "    #source: https://www.kaggle.com/gemartin/load-data-reduce-memory-usage\n",
    "    '''\n",
    "    This function is used to reduce the memory usage by converting the datatypes of a pandas\n",
    "    DataFrame withing required limits.\n",
    "    '''\n",
    "    \n",
    "    start_mem = data.memory_usage().sum() / 1024**2\n",
    "    if verbose:\n",
    "        print('-'*100)\n",
    "        print('Memory usage of dataframe: {:.2f} MB'.format(start_mem))\n",
    "    \n",
    "    for col in data.columns:\n",
    "        col_type = data[col].dtype\n",
    "        \n",
    "        if col_type != object:\n",
    "            c_min = data[col].min()\n",
    "            c_max = data[col].max()\n",
    "            if str(col_type)[:3] == 'int':\n",
    "                if c_min > np.iinfo(np.int8).min and c_max < np.iinfo(np.int8).max:\n",
    "                    data[col] = data[col].astype(np.int8)\n",
    "                elif c_min > np.iinfo(np.int16).min and c_max < np.iinfo(np.int16).max:\n",
    "                    data[col] = data[col].astype(np.int16)\n",
    "                elif c_min > np.iinfo(np.int32).min and c_max < np.iinfo(np.int32).max:\n",
    "                    data[col] = data[col].astype(np.int32)\n",
    "                elif c_min > np.iinfo(np.int64).min and c_max < np.iinfo(np.int64).max:\n",
    "                    data[col] = data[col].astype(np.int64)  \n",
    "            else:\n",
    "                if c_min > np.finfo(np.float16).min and c_max < np.finfo(np.float16).max:\n",
    "                    data[col] = data[col].astype(np.float16)\n",
    "                elif c_min > np.finfo(np.float32).min and c_max < np.finfo(np.float32).max:\n",
    "                    data[col] = data[col].astype(np.float32)\n",
    "                else:\n",
    "                    data[col] = data[col].astype(np.float64)\n",
    "\n",
    "    end_mem = data.memory_usage().sum() / 1024**2\n",
    "    if verbose:\n",
    "        print('Memory usage after optimization: {:.2f} MB'.format(end_mem))\n",
    "        print('Decreased by {:.1f}%'.format(100 * (start_mem - end_mem) / start_mem))\n",
    "        print('-'*100)\n",
    "    \n",
    "    return data"
   ]
  },
  {
   "cell_type": "markdown",
   "metadata": {},
   "source": [
    "# 1. Feature Selection"
   ]
  },
  {
   "cell_type": "markdown",
   "metadata": {},
   "source": [
    "In this section, we will try to reduce the number of features, in such a way that it doesn't have a negative impact on the performance of the model.\n"
   ]
  },
  {
   "cell_type": "code",
   "execution_count": 3,
   "metadata": {},
   "outputs": [],
   "source": [
    "# loading data\n",
    "train_data = pd.read_csv(\"data_preprocessed/train_data.csv\", index_col = \"SK_ID_CURR\")\n",
    "test_data = pd.read_csv(\"data_preprocessed/test_data.csv\", index_col = \"SK_ID_CURR\")"
   ]
  },
  {
   "cell_type": "code",
   "execution_count": 4,
   "metadata": {},
   "outputs": [
    {
     "name": "stdout",
     "output_type": "stream",
     "text": [
      "----------------------------------------------------------------------------------------------------\n",
      "Memory usage of dataframe: 3835.86 MB\n",
      "Memory usage after optimization: 1329.94 MB\n",
      "Decreased by 65.3%\n",
      "----------------------------------------------------------------------------------------------------\n",
      "----------------------------------------------------------------------------------------------------\n",
      "Memory usage of dataframe: 607.66 MB\n",
      "Memory usage after optimization: 216.25 MB\n",
      "Decreased by 64.4%\n",
      "----------------------------------------------------------------------------------------------------\n"
     ]
    }
   ],
   "source": [
    "# optimize memory usage\n",
    "train_data, test_data = reduce_mem_usage(train_data), reduce_mem_usage(test_data)"
   ]
  },
  {
   "cell_type": "markdown",
   "metadata": {},
   "source": [
    "**Looking for empty features** \n",
    "\n",
    "Here, empty features refer to those features which have just one unique value. These features are useless for the classifiers, as they do not contain any information."
   ]
  },
  {
   "cell_type": "code",
   "execution_count": 5,
   "metadata": {},
   "outputs": [
    {
     "name": "stdout",
     "output_type": "stream",
     "text": [
      "There are 0 columns with just 1 unique value\n",
      "Removing these from dataset\n"
     ]
    }
   ],
   "source": [
    "empty_columns = []\n",
    "for col in train_data.columns:\n",
    "    if len(train_data[col].unique()) <=1:\n",
    "        empty_columns.append(col)\n",
    "    \n",
    "print(f\"There are {len(empty_columns)} columns with just 1 unique value\")\n",
    "print(\"Removing these from dataset\")\n",
    "train_data = train_data.drop(empty_columns, axis = 1)\n",
    "test_data = test_data.drop(empty_columns, axis = 1)"
   ]
  },
  {
   "cell_type": "markdown",
   "metadata": {},
   "source": [
    "**Recursive Feature Selection using LightGBM**\n",
    "\n",
    "In this section, we will further try to reduce the feature set, using a Classification Model, using the feature importance attribute . In this method, we will recursively run the Classification model on training dataset, and will check the Cross Validation AUC. If the Cross-Validation AUC goes below a certain threshold, we will stop adding the features the features.\n",
    "\n",
    "The steps would be:\n",
    "\n",
    "1. Run the Classifier on whole training set, and calculate 3 fold cross-validation AUC.\n",
    "\n",
    "2. Select the features which have non-zero feature importance as per the model.\n",
    "\n",
    "3. Rerun the Classifier with the features which had zero feature importance. This is done because there might be cases where the classifier would have assigned 0-feature imporatnce to some features but that could be due to just that iteration and randomness. So we rerun the classifier on those features, to see if they alone can give good metric score.\n",
    "\n",
    "4. Stop adding features if the Cross Validation score for low importance features goes below a threshold."
   ]
  },
  {
   "cell_type": "code",
   "execution_count": 6,
   "metadata": {},
   "outputs": [],
   "source": [
    "target_train = train_data.pop('TARGET')"
   ]
  },
  {
   "cell_type": "code",
   "execution_count": 6,
   "metadata": {},
   "outputs": [],
   "source": [
    "class recursive_feature_selector:\n",
    "    '''\n",
    "    Class to recursively select top features.\n",
    "    Contains 2 methods:\n",
    "        1. init method\n",
    "        2. main method\n",
    "    '''\n",
    "    \n",
    "    def __init__(self, train_data, test_data, target_train, num_folds = 3, verbose = True, random_state = 5358):\n",
    "        '''\n",
    "        Function to initialize the class variables.\n",
    "        \n",
    "        Inputs:\n",
    "            self\n",
    "            train_data: DataFrame\n",
    "                Training Data\n",
    "            test_data: DataFrame\n",
    "                Test Data\n",
    "            target_train: Series\n",
    "                Class Labels for training Data\n",
    "            num_folds: int, default = 3\n",
    "                Number of folds for K-Fold CV\n",
    "            verbose: bool, default = True\n",
    "                Whether to keep verbosity or not\n",
    "            random_state: int, default = 5358\n",
    "                The random state for the classifier for recursive feature selection\n",
    "                \n",
    "        Returns: \n",
    "            None\n",
    "        '''\n",
    "        \n",
    "        self.train_data = train_data\n",
    "        self.test_data = test_data\n",
    "        self.target_train = target_train\n",
    "        self.num_folds = num_folds\n",
    "        self.verbose = verbose\n",
    "        self.random_state = random_state\n",
    "        \n",
    "    def main(self):\n",
    "        '''\n",
    "        Function to select features recursively\n",
    "        \n",
    "        Inputs:\n",
    "            self\n",
    "        \n",
    "        Returns:\n",
    "            Training and testing data with reduced number of features\n",
    "        '''\n",
    "        \n",
    "        if self.verbose:\n",
    "            print(\"Starting Feature Selection...\")\n",
    "            start = datetime.now()\n",
    "            \n",
    "        #set of important features\n",
    "        self.important_columns = set()\n",
    "        score = 1\n",
    "        i = 1\n",
    "        \n",
    "        while score > 0.72:\n",
    "            if self.verbose:\n",
    "                print(f\"Iteration {i}:\")\n",
    "                \n",
    "            #removing the features which have been selected from the modelling data\n",
    "            selection_data = self.train_data.drop(list(self.important_columns), axis = 1)\n",
    "            #defining the CV strategry\n",
    "            fold = StratifiedKFold(n_splits = self.num_folds, shuffle = True, random_state = 33)\n",
    "            #reinitializing the score\n",
    "            score = 0\n",
    "            model_feature_importance = np.zeros_like(selection_data.columns)\n",
    "            \n",
    "            #doing K-Fold Cross validation\n",
    "            for fold_num, (train_indices, val_indices) in enumerate(fold.split(selection_data, self.target_train),1):\n",
    "                if self.verbose:\n",
    "                    print(f\"\\t\\tFitting fold {fold_num}\")\n",
    "                \n",
    "                #defining the train and validation data\n",
    "                x_train = selection_data.iloc[train_indices]\n",
    "                x_val = selection_data.iloc[val_indices]\n",
    "                y_train = self.target_train.iloc[train_indices]\n",
    "                y_val = self.target_train.iloc[val_indices]\n",
    "                \n",
    "                #instantiating the LightGBM Classifier\n",
    "                lg = LGBMClassifier(n_jobs = -1, random_state = self.random_state)\n",
    "                lg.fit(x_train, y_train)\n",
    "\n",
    "                #appending the feature importance of each feature averaged over different folds\n",
    "                model_feature_importance += lg.feature_importances_ / self.num_folds\n",
    "                #average k-fold ROC-AUC Score\n",
    "                score += roc_auc_score(y_val, lg.predict_proba(x_val)[:,1]) / self.num_folds\n",
    "\n",
    "            #getting the non-zero feature importance columns\n",
    "            imp_cols_indices = np.where(np.abs(model_feature_importance) > 0)\n",
    "            #names of non-zero feature importance columns\n",
    "            cols_imp = self.train_data.columns[imp_cols_indices]\n",
    "            \n",
    "            if score > 0.7:\n",
    "                self.important_columns.update(cols_imp)\n",
    "                if self.verbose:\n",
    "                    print(f\"\\tNo. of important columns kept = {len(self.important_columns)}\")            \n",
    "            if self.verbose:\n",
    "                print(f\"\\tCross Validation score = {score}\")\n",
    "            i += 1\n",
    "            \n",
    "        self.important_columns = list(self.important_columns)\n",
    "        \n",
    "        if self.verbose:\n",
    "            print(\"\\nDone Selecting Features.\")\n",
    "            print(f\"Total columns removed = {self.train_data.shape[1] - len(self.important_columns)}\")\n",
    "            print(f\"\\nInitial Shape of train_data = {self.train_data.shape}\")\n",
    "        self.train_data = self.train_data[self.important_columns]\n",
    "        self.test_data = self.test_data[self.important_columns]\n",
    "        if self.verbose:\n",
    "            print(f\"Final Shape of train_data = {self.train_data.shape}\")\n",
    "            print(f\"\\nTotal Time Taken = {datetime.now() - start}\")\n",
    "            \n",
    "        \n",
    "        gc.collect()\n",
    "        return self.train_data, self.test_data"
   ]
  },
  {
   "cell_type": "code",
   "execution_count": 7,
   "metadata": {},
   "outputs": [],
   "source": [
    "import re\n",
    "train_data = train_data.rename(columns = lambda x:re.sub('[^A-Za-z0-9_]+', '', x))\n",
    "test_data = test_data.rename(columns = lambda x:re.sub('[^A-Za-z0-9_]+', '', x)) "
   ]
  },
  {
   "cell_type": "code",
   "execution_count": 7,
   "metadata": {
    "scrolled": false
   },
   "outputs": [
    {
     "name": "stdout",
     "output_type": "stream",
     "text": [
      "Starting Feature Selection...\n",
      "Iteration 1:\n",
      "\t\tFitting fold 1\n",
      "\t\tFitting fold 2\n",
      "\t\tFitting fold 3\n",
      "\tNo. of important columns kept = 1151\n",
      "\tCross Validation score = 0.797606484649442\n",
      "Iteration 2:\n",
      "\t\tFitting fold 1\n",
      "\t\tFitting fold 2\n",
      "\t\tFitting fold 3\n",
      "\tNo. of important columns kept = 1246\n",
      "\tCross Validation score = 0.7130721683527554\n",
      "\n",
      "Done Selecting Features.\n",
      "Total columns removed = 363\n",
      "\n",
      "Initial Shape of train_data = (307507, 1609)\n",
      "Final Shape of train_data = (307507, 1246)\n",
      "\n",
      "Total Time Taken = 0:20:59.061676\n"
     ]
    }
   ],
   "source": [
    "#instantiating the class recursive_feature_selector\n",
    "feature_selector =  recursive_feature_selector(train_data, test_data, target_train)\n",
    "train_data, test_data = feature_selector.main()\n",
    "important_columns = feature_selector.important_columns"
   ]
  },
  {
   "cell_type": "code",
   "execution_count": 12,
   "metadata": {},
   "outputs": [
    {
     "name": "stdout",
     "output_type": "stream",
     "text": [
      "True\n"
     ]
    }
   ],
   "source": [
    "import pickle\n",
    "\n",
    "# Store data (serialize)\n",
    "with open('important_columns.pickle', 'wb') as handle:\n",
    "    pickle.dump(important_columns, handle, protocol=pickle.HIGHEST_PROTOCOL)\n",
    "\n",
    "# Load data (deserialize)\n",
    "with open('important_columns.pickle', 'rb') as handle:\n",
    "    unserialized_data = pickle.load(handle)\n",
    "\n",
    "print(important_columns == unserialized_data)"
   ]
  },
  {
   "cell_type": "code",
   "execution_count": 9,
   "metadata": {},
   "outputs": [],
   "source": [
    "import pickle\n",
    "\n",
    "# Load data (deserialize)\n",
    "with open('important_columns.pickle', 'rb') as handle:\n",
    "    important_columns = pickle.load(handle)\n",
    "    \n",
    "\n",
    "train_data = train_data[important_columns]\n",
    "test_data = test_data[important_columns]"
   ]
  },
  {
   "cell_type": "code",
   "execution_count": 10,
   "metadata": {},
   "outputs": [],
   "source": [
    "#standardizing the data\n",
    "scaler = StandardScaler()\n",
    "x_train_std = scaler.fit_transform(train_data)\n",
    "x_test_std = scaler.fit_transform(test_data)\n",
    "y_train = target_train\n",
    "\n",
    "#replacing nan values with 0\n",
    "x_train_std[np.isnan(x_train_std)] = 0\n",
    "x_test_std[np.isnan(x_test_std)] = 0"
   ]
  },
  {
   "cell_type": "markdown",
   "metadata": {},
   "source": [
    "# Modelling"
   ]
  },
  {
   "cell_type": "markdown",
   "metadata": {},
   "source": [
    "Now, we will start the model building.\n",
    "\n",
    "* We will start with a random model, to create a baseline and thus compare our sensible models with these results.\n",
    "\n",
    "* Then we will move to Logistic Regression and Linear SVM. We are not using Kernel SVM for high time complexities. The Classifier such as Logistic Regression and Linear Regression really perform well when the data is high dimensional.\n",
    "\n",
    "* We will then move to ensemble learning models like random forest and Gradient boosting machines.\n",
    "\n",
    "* Since we are using AUC as our KPI for tuning the models, and it is a case of imbalanced classification, we might have to do threshold tuning for some of the models, which do not give exact probabilities. We will use ROC Curve for threshold moving.\n",
    "\n",
    "* Lastly, we will do stacking and blending and see if they help to improve the models further.\n",
    "\n",
    "*Note: We are handling the NaN values by replacing them with 0s only for Sklearn models. The boosting methods like XGBoost, LightGBM inherently handle NaN values as categories, and thus we don't need to explicitly impute any value to them. *\n",
    "\n",
    "**Random Model**\n",
    "\n",
    "This model randomly generates a probability value between 0 to 1, for each of the datapoint. This would serve as a baseline model, and that our any sensible model should not perform worse than this."
   ]
  },
  {
   "cell_type": "code",
   "execution_count": 11,
   "metadata": {},
   "outputs": [
    {
     "name": "stdout",
     "output_type": "stream",
     "text": [
      "====================================================================================================\n",
      "Training Dataset Results:\n",
      "\tROC-AUC Score = 0.5030380652625631\n",
      "\tPrecision Score = 0.08150431485780804\n",
      "\tRecall Score = 0.5048539778449144\n",
      "====================================================================================================\n",
      "Confusion Matrix of Training data:\n"
     ]
    },
    {
     "data": {
      "image/png": "[encoded data removed]",
      "text/plain": [
       "<Figure size 504x432 with 2 Axes>"
      ]
     },
     "metadata": {},
     "output_type": "display_data"
    },
    {
     "name": "stdout",
     "output_type": "stream",
     "text": [
      "====================================================================================================\n",
      "Distribution of Original Class Labels and Predicted Train and Test Class Labels\n"
     ]
    },
    {
     "data": {
      "image/png": "[encoded data removed]",
      "text/plain": [
       "<Figure size 1440x432 with 3 Axes>"
      ]
     },
     "metadata": {},
     "output_type": "display_data"
    },
    {
     "name": "stdout",
     "output_type": "stream",
     "text": [
      "====================================================================================================\n"
     ]
    }
   ],
   "source": [
    "#predicted proability for train and test datapoints\n",
    "predicted_proba_train = np.random.uniform(0, 1, len(train_data))\n",
    "predicted_proba_test = np.random.uniform(0, 1, len(test_data))\n",
    "\n",
    "print(\"=\" * 100)\n",
    "print(\"Training Dataset Results:\")\n",
    "print(f\"\\tROC-AUC Score = {roc_auc_score(target_train, predicted_proba_train)}\")\n",
    "print(f\"\\tPrecision Score = {precision_score(target_train, np.round(predicted_proba_train))}\")\n",
    "print(f\"\\tRecall Score = {recall_score(target_train, np.round(predicted_proba_train))}\")\n",
    "print('=' * 100)\n",
    "\n",
    "print(\"Confusion Matrix of Training data:\")\n",
    "conf_mat = confusion_matrix(target_train, np.round(predicted_proba_train))\n",
    "conf_mat = pd.DataFrame(conf_mat, columns = ['Predicted_0','Predicted_1'], index = ['Actual_0','Actual_1'])\n",
    "plt.figure(figsize = (7,6))\n",
    "plt.title('Confusion Matrix Heatmap')\n",
    "sns.heatmap(conf_mat, annot = True, fmt = 'g', linewidth = 0.5, annot_kws = {'size' : 15})\n",
    "plt.show()\n",
    "print('=' * 100)\n",
    "\n",
    "print(\"Distribution of Original Class Labels and Predicted Train and Test Class Labels\")\n",
    "plt.figure(figsize = (20,6))\n",
    "plt.subplot(1,3,1)\n",
    "plt.title('Class Distribution of Original Dataset')\n",
    "sns.countplot(target_train)\n",
    "plt.subplot(1,3,2)\n",
    "plt.title('Class Distribution of predicted Class Labels on CV')\n",
    "sns.countplot(np.round(predicted_proba_train))\n",
    "plt.subplot(1,3,3)\n",
    "plt.title('Class Distribution of predicted Test Dataset')\n",
    "sns.countplot(np.round(predicted_proba_test))\n",
    "plt.show()\n",
    "print('=' * 100)"
   ]
  },
  {
   "cell_type": "code",
   "execution_count": 29,
   "metadata": {
    "scrolled": true
   },
   "outputs": [
    {
     "name": "stdout",
     "output_type": "stream",
     "text": [
      "Successfully submitted to Home Credit Default RiskSuccessfully submitted to Home Credit Default Risk\n"
     ]
    },
    {
     "name": "stderr",
     "output_type": "stream",
     "text": [
      "\n",
      "  0%|          | 0.00/1.27M [00:00<?, ?B/s]\n",
      "  1%|          | 8.00k/1.27M [00:00<00:27, 48.1kB/s]\n",
      "  7%|6         | 88.0k/1.27M [00:00<00:21, 58.4kB/s]\n",
      "  8%|8         | 104k/1.27M [00:01<00:17, 68.1kB/s] \n",
      "  9%|9         | 120k/1.27M [00:01<00:15, 76.4kB/s]\n",
      " 10%|#         | 136k/1.27M [00:01<00:14, 82.0kB/s]\n",
      " 12%|#1        | 152k/1.27M [00:01<00:13, 86.5kB/s]\n",
      " 13%|#2        | 168k/1.27M [00:01<00:12, 89.9kB/s]\n",
      " 14%|#4        | 184k/1.27M [00:01<00:12, 91.8kB/s]\n",
      " 15%|#5        | 200k/1.27M [00:02<00:12, 93.1kB/s]\n",
      " 17%|#6        | 216k/1.27M [00:02<00:11, 93.6kB/s]\n",
      " 18%|#7        | 232k/1.27M [00:02<00:11, 94.9kB/s]\n",
      " 19%|#9        | 248k/1.27M [00:02<00:11, 91.7kB/s]\n",
      " 20%|##        | 264k/1.27M [00:02<00:11, 94.3kB/s]\n",
      " 22%|##1       | 280k/1.27M [00:02<00:10, 95.4kB/s]\n",
      " 23%|##2       | 296k/1.27M [00:03<00:10, 95.6kB/s]\n",
      " 24%|##4       | 312k/1.27M [00:03<00:16, 60.0kB/s]\n",
      " 25%|##5       | 328k/1.27M [00:03<00:14, 68.4kB/s]"
     ]
    },
    {
     "name": "stdout",
     "output_type": "stream",
     "text": [
      "\n"
     ]
    },
    {
     "name": "stderr",
     "output_type": "stream",
     "text": [
      "\n",
      " 26%|##6       | 344k/1.27M [00:03<00:12, 77.1kB/s]\n",
      " 28%|##7       | 360k/1.27M [00:04<00:11, 82.6kB/s]\n",
      " 29%|##8       | 376k/1.27M [00:04<00:10, 86.5kB/s]\n",
      " 30%|###       | 392k/1.27M [00:04<00:10, 89.6kB/s]\n",
      " 31%|###1      | 408k/1.27M [00:04<00:10, 90.4kB/s]\n",
      " 33%|###2      | 424k/1.27M [00:04<00:09, 93.4kB/s]\n",
      " 34%|###3      | 440k/1.27M [00:04<00:09, 95.5kB/s]\n",
      " 35%|###5      | 456k/1.27M [00:05<00:09, 94.2kB/s]\n",
      " 36%|###6      | 472k/1.27M [00:05<00:08, 96.9kB/s]\n",
      " 38%|###7      | 488k/1.27M [00:05<00:08, 95.8kB/s]\n",
      " 39%|###8      | 504k/1.27M [00:05<00:08, 93.4kB/s]\n",
      " 40%|####      | 520k/1.27M [00:05<00:08, 94.7kB/s]\n",
      " 41%|####1     | 536k/1.27M [00:05<00:08, 94.1kB/s]\n",
      " 43%|####2     | 552k/1.27M [00:06<00:08, 94.9kB/s]\n",
      " 44%|####3     | 568k/1.27M [00:06<00:11, 63.5kB/s]\n",
      " 46%|####5     | 592k/1.27M [00:06<00:09, 77.2kB/s]\n",
      " 47%|####6     | 608k/1.27M [00:06<00:08, 83.5kB/s]\n",
      " 48%|####8     | 624k/1.27M [00:07<00:08, 86.1kB/s]\n",
      " 49%|####9     | 640k/1.27M [00:07<00:07, 90.3kB/s]\n",
      " 51%|#####     | 656k/1.27M [00:07<00:07, 93.2kB/s]\n",
      " 52%|#####1    | 672k/1.27M [00:07<00:06, 92.3kB/s]\n",
      " 53%|#####2    | 688k/1.27M [00:07<00:06, 93.7kB/s]\n",
      " 54%|#####4    | 704k/1.27M [00:07<00:06, 95.4kB/s]\n",
      " 55%|#####5    | 720k/1.27M [00:08<00:06, 97.3kB/s]\n",
      " 57%|#####6    | 736k/1.27M [00:08<00:05, 97.6kB/s]\n",
      " 58%|#####7    | 752k/1.27M [00:08<00:05, 98.2kB/s]\n",
      " 59%|#####9    | 768k/1.27M [00:08<00:05, 97.4kB/s]\n",
      " 60%|######    | 784k/1.27M [00:08<00:05, 98.2kB/s]\n",
      " 62%|######1   | 800k/1.27M [00:08<00:05, 99.1kB/s]\n",
      " 63%|######2   | 816k/1.27M [00:09<00:05, 96.3kB/s]\n",
      " 64%|######4   | 832k/1.27M [00:09<00:04, 96.4kB/s]\n",
      " 65%|######5   | 848k/1.27M [00:09<00:04, 97.5kB/s]\n",
      " 67%|######6   | 864k/1.27M [00:09<00:04, 98.3kB/s]\n",
      " 68%|######7   | 880k/1.27M [00:09<00:04, 97.4kB/s]\n",
      " 69%|######9   | 896k/1.27M [00:09<00:04, 98.4kB/s]\n",
      " 70%|#######   | 912k/1.27M [00:10<00:04, 97.4kB/s]\n",
      " 71%|#######1  | 928k/1.27M [00:10<00:03, 97.3kB/s]\n",
      " 73%|#######2  | 944k/1.27M [00:10<00:03, 98.9kB/s]\n",
      " 74%|#######3  | 960k/1.27M [00:10<00:05, 67.4kB/s]\n",
      " 75%|#######5  | 976k/1.27M [00:10<00:04, 80.4kB/s]\n",
      " 76%|#######6  | 992k/1.27M [00:11<00:03, 93.1kB/s]\n",
      " 78%|#######8  | 0.99M/1.27M [00:11<00:02, 112kB/s]\n",
      " 79%|#######9  | 1.01M/1.27M [00:11<00:02, 107kB/s]\n",
      " 81%|########  | 1.02M/1.27M [00:11<00:02, 102kB/s]\n",
      " 82%|########1 | 1.04M/1.27M [00:11<00:03, 71.6kB/s]\n",
      " 84%|########3 | 1.06M/1.27M [00:12<00:02, 81.2kB/s]\n",
      " 85%|########5 | 1.08M/1.27M [00:12<00:02, 95.6kB/s]\n",
      " 87%|########6 | 1.10M/1.27M [00:12<00:01, 110kB/s] \n",
      " 88%|########8 | 1.12M/1.27M [00:12<00:01, 103kB/s]\n",
      " 89%|########9 | 1.13M/1.27M [00:12<00:01, 102kB/s]\n",
      " 91%|######### | 1.15M/1.27M [00:12<00:01, 100kB/s]\n",
      " 92%|#########1| 1.16M/1.27M [00:13<00:01, 100kB/s]\n",
      " 93%|#########3| 1.18M/1.27M [00:13<00:00, 99.6kB/s]\n",
      " 94%|#########4| 1.20M/1.27M [00:13<00:00, 99.1kB/s]\n",
      " 96%|#########5| 1.21M/1.27M [00:13<00:00, 81.2kB/s]\n",
      " 97%|#########7| 1.23M/1.27M [00:13<00:00, 91.2kB/s]\n",
      " 99%|#########8| 1.25M/1.27M [00:14<00:00, 89.3kB/s]\n",
      "100%|#########9| 1.27M/1.27M [00:14<00:00, 90.9kB/s]\n",
      "100%|##########| 1.27M/1.27M [00:15<00:00, 84.1kB/s]\n"
     ]
    }
   ],
   "source": [
    "#submitting the result\n",
    "skid_test = test_data.index\n",
    "pd.DataFrame({'SK_ID_CURR': skid_test, 'TARGET' : predicted_proba_test}).to_csv('Random_Model.csv',index = False)\n",
    "!kaggle competitions submit -c home-credit-default-risk -f Random_Model.csv -m \"Random Model Predictions\"\n",
    "print('Successfully submitted to Home Credit Default Risk')"
   ]
  },
  {
   "attachments": {
    "image.png": {
     "image/png": "[encoded data removed]"
    }
   },
   "cell_type": "markdown",
   "metadata": {},
   "source": [
    "![image.png](attachment:image.png) \n",
    "\n",
    "* From the above Confusion Matrix, we see that it predicts almost equal numbers of Positive and Negative Class Labels. This implies the complete randomness of the model.\n",
    "\n",
    "* From the Distributions of predicted Class Labels too, we see this behaviour.\n",
    "\n",
    "* The AUC for the random model on training dataset comes out to be close to 0.5, and the F1-Score close to 0.14.\n",
    "\n",
    "* The similar AUC is seen from the Test Dataset too, as seen from above submission.\n",
    "\n",
    "* This sets a baseline for all the metrics here."
   ]
  },
  {
   "cell_type": "markdown",
   "metadata": {},
   "source": [
    "**Dominant Class Model** \n",
    "\n",
    "* In this model, we will predict everything as the dominant Class, which is Class Label 0 in our case here. We will see the metrics for this model too, and again our sensible models need to perform better than this.\n",
    "\n",
    "* Since we are calculating the ROC-AUC value as well, so we will randomly predict a probability between 0 to 0.5 with a threshold of 0.5, so that all points get classified as 0."
   ]
  },
  {
   "cell_type": "code",
   "execution_count": 12,
   "metadata": {},
   "outputs": [
    {
     "name": "stdout",
     "output_type": "stream",
     "text": [
      "====================================================================================================\n",
      "Training Dataset Results:\n",
      "\tROC-AUC Score = 0.5001170949136153\n",
      "\tPrecision Score = 0.0\n",
      "\tRecall Score = 0.0\n",
      "====================================================================================================\n",
      "Confusion Matrix of Training data:\n"
     ]
    },
    {
     "data": {
      "image/png": "[encoded data removed]",
      "text/plain": [
       "<Figure size 504x432 with 2 Axes>"
      ]
     },
     "metadata": {},
     "output_type": "display_data"
    },
    {
     "name": "stdout",
     "output_type": "stream",
     "text": [
      "====================================================================================================\n",
      "Distribution of Original Class Labels and Predicted Train and Test Class Labels\n"
     ]
    },
    {
     "data": {
      "image/png": "[encoded data removed]",
      "text/plain": [
       "<Figure size 1440x432 with 3 Axes>"
      ]
     },
     "metadata": {},
     "output_type": "display_data"
    },
    {
     "name": "stdout",
     "output_type": "stream",
     "text": [
      "====================================================================================================\n"
     ]
    }
   ],
   "source": [
    "#predicting everything with probability less than 0.5, i.e majority class\n",
    "predicted_proba_train = np.random.uniform(0, 0.5, len(train_data))\n",
    "predicted_proba_test = np.random.uniform(0, 0.5, len(test_data))\n",
    "\n",
    "print(\"=\" * 100)\n",
    "print(\"Training Dataset Results:\")\n",
    "print(f\"\\tROC-AUC Score = {roc_auc_score(target_train, predicted_proba_train)}\")\n",
    "print(f\"\\tPrecision Score = {precision_score(target_train, np.round(predicted_proba_train))}\")\n",
    "print(f\"\\tRecall Score = {recall_score(target_train, np.round(predicted_proba_train))}\")\n",
    "print('=' * 100)\n",
    "\n",
    "print(\"Confusion Matrix of Training data:\")\n",
    "conf_mat = confusion_matrix(target_train, np.round(predicted_proba_train))\n",
    "conf_mat = pd.DataFrame(conf_mat, columns = ['Predicted_0','Predicted_1'], index = ['Actual_0','Actual_1'])\n",
    "plt.figure(figsize = (7,6))\n",
    "plt.title('Confusion Matrix Heatmap')\n",
    "sns.heatmap(conf_mat, annot = True, fmt = 'g', linewidth = 0.5, annot_kws = {'size' : 15})\n",
    "plt.show()\n",
    "print('=' * 100)\n",
    "\n",
    "print(\"Distribution of Original Class Labels and Predicted Train and Test Class Labels\")\n",
    "plt.figure(figsize = (20,6))\n",
    "plt.subplot(1,3,1)\n",
    "plt.title('Class Distribution of Original Dataset')\n",
    "sns.countplot(target_train)\n",
    "plt.subplot(1,3,2)\n",
    "plt.title('Class Distribution of predicted Class Labels on CV')\n",
    "sns.countplot(np.round(predicted_proba_train))\n",
    "plt.subplot(1,3,3)\n",
    "plt.title('Class Distribution of predicted Test Dataset')\n",
    "sns.countplot(np.round(predicted_proba_test))\n",
    "plt.show()\n",
    "print('=' * 100)"
   ]
  },
  {
   "cell_type": "code",
   "execution_count": 31,
   "metadata": {},
   "outputs": [
    {
     "name": "stdout",
     "output_type": "stream",
     "text": [
      "Successfully submitted to Home Credit Default Risk\n",
      "Successfully submitted to Home Credit Default Risk\n"
     ]
    },
    {
     "name": "stderr",
     "output_type": "stream",
     "text": [
      "\n",
      "  0%|          | 0.00/1.29M [00:00<?, ?B/s]\n",
      "  1%|          | 8.00k/1.29M [00:00<00:39, 33.5kB/s]\n",
      "  7%|6         | 88.0k/1.29M [00:01<00:32, 38.7kB/s]\n",
      "  7%|7         | 96.0k/1.29M [00:01<00:29, 42.7kB/s]\n",
      "  8%|7         | 104k/1.29M [00:01<00:28, 43.8kB/s] \n",
      "  9%|9         | 120k/1.29M [00:02<00:24, 50.9kB/s]\n",
      " 10%|#         | 136k/1.29M [00:02<00:19, 60.6kB/s]\n",
      " 12%|#1        | 152k/1.29M [00:02<00:17, 68.8kB/s]\n",
      " 13%|#2        | 168k/1.29M [00:02<00:15, 74.5kB/s]\n",
      " 14%|#3        | 184k/1.29M [00:02<00:14, 79.8kB/s]\n",
      " 15%|#5        | 200k/1.29M [00:02<00:13, 85.7kB/s]\n",
      " 16%|#6        | 216k/1.29M [00:03<00:12, 89.6kB/s]\n",
      " 18%|#7        | 232k/1.29M [00:03<00:12, 91.2kB/s]\n",
      " 19%|#8        | 248k/1.29M [00:03<00:11, 93.5kB/s]\n",
      " 20%|##        | 264k/1.29M [00:03<00:11, 95.8kB/s]\n",
      " 21%|##1       | 280k/1.29M [00:03<00:11, 94.1kB/s]\n",
      " 22%|##2       | 296k/1.29M [00:03<00:10, 96.5kB/s]\n",
      " 24%|##3       | 312k/1.29M [00:04<00:10, 95.1kB/s]\n",
      " 25%|##4       | 328k/1.29M [00:04<00:10, 96.8kB/s]\n",
      " 26%|##6       | 344k/1.29M [00:04<00:10, 95.9kB/s]\n",
      " 27%|##7       | 360k/1.29M [00:04<00:10, 94.7kB/s]\n",
      " 29%|##8       | 376k/1.29M [00:04<00:10, 93.6kB/s]\n",
      " 30%|##9       | 392k/1.29M [00:04<00:10, 93.3kB/s]\n",
      " 31%|###       | 408k/1.29M [00:05<00:09, 94.7kB/s]\n",
      " 32%|###2      | 424k/1.29M [00:05<00:09, 96.7kB/s]\n",
      " 33%|###3      | 440k/1.29M [00:05<00:09, 97.5kB/s]\n",
      " 35%|###4      | 456k/1.29M [00:05<00:09, 95.7kB/s]\n",
      " 36%|###5      | 472k/1.29M [00:06<00:16, 53.1kB/s]\n",
      " 36%|###6      | 480k/1.29M [00:06<00:15, 55.8kB/s]\n",
      " 39%|###8      | 512k/1.29M [00:06<00:11, 72.5kB/s]\n",
      " 40%|####      | 528k/1.29M [00:06<00:10, 79.1kB/s]\n",
      " 41%|####1     | 544k/1.29M [00:06<00:09, 84.2kB/s]\n",
      " 43%|####2     | 560k/1.29M [00:07<00:08, 89.3kB/s]\n",
      " 44%|####3     | 576k/1.29M [00:07<00:08, 88.2kB/s]\n",
      " 45%|####4     | 592k/1.29M [00:07<00:08, 92.5kB/s]\n",
      " 46%|####6     | 608k/1.29M [00:07<00:07, 95.0kB/s]\n",
      " 47%|####7     | 624k/1.29M [00:07<00:07, 95.9kB/s]\n",
      " 49%|####8     | 640k/1.29M [00:07<00:07, 95.4kB/s]\n",
      " 50%|####9     | 656k/1.29M [00:08<00:07, 96.2kB/s]\n",
      " 51%|#####1    | 672k/1.29M [00:08<00:06, 96.3kB/s]\n",
      " 52%|#####2    | 688k/1.29M [00:08<00:06, 97.8kB/s]\n",
      " 53%|#####3    | 704k/1.29M [00:08<00:06, 98.7kB/s]\n",
      " 55%|#####4    | 720k/1.29M [00:08<00:06, 98.1kB/s]\n",
      " 56%|#####5    | 736k/1.29M [00:08<00:06, 97.2kB/s]\n",
      " 57%|#####7    | 752k/1.29M [00:09<00:09, 59.2kB/s]\n",
      " 59%|#####8    | 776k/1.29M [00:09<00:07, 76.5kB/s]\n",
      " 60%|######    | 792k/1.29M [00:09<00:06, 82.0kB/s]\n",
      " 61%|######1   | 808k/1.29M [00:09<00:05, 87.6kB/s]\n",
      " 63%|######2   | 824k/1.29M [00:10<00:05, 92.7kB/s]\n",
      " 64%|######3   | 840k/1.29M [00:10<00:05, 93.4kB/s]\n",
      " 65%|######4   | 856k/1.29M [00:10<00:05, 93.4kB/s]\n",
      " 66%|######6   | 872k/1.29M [00:10<00:04, 95.5kB/s]\n",
      " 67%|######7   | 888k/1.29M [00:10<00:04, 96.0kB/s]\n",
      " 69%|######8   | 904k/1.29M [00:10<00:04, 96.3kB/s]\n",
      " 70%|######9   | 920k/1.29M [00:11<00:04, 97.8kB/s]\n",
      " 71%|#######1  | 936k/1.29M [00:11<00:03, 98.0kB/s]\n",
      " 72%|#######2  | 952k/1.29M [00:11<00:03, 94.9kB/s]\n",
      " 73%|#######3  | 968k/1.29M [00:11<00:03, 94.9kB/s]\n",
      " 75%|#######4  | 984k/1.29M [00:11<00:03, 94.1kB/s]\n",
      " 76%|#######5  | 0.98M/1.29M [00:12<00:05, 57.2kB/s]\n",
      " 78%|#######7  | 1.00M/1.29M [00:12<00:04, 71.4kB/s]\n",
      " 79%|#######8  | 1.02M/1.29M [00:12<00:03, 81.2kB/s]\n",
      " 80%|########  | 1.03M/1.29M [00:12<00:03, 82.2kB/s]\n",
      " 81%|########1 | 1.05M/1.29M [00:12<00:02, 89.7kB/s]\n",
      " 83%|########2 | 1.06M/1.29M [00:13<00:03, 61.9kB/s]\n",
      " 84%|########3 | 1.08M/1.29M [00:13<00:03, 72.6kB/s]\n",
      " 85%|########5 | 1.09M/1.29M [00:13<00:02, 80.7kB/s]\n",
      " 86%|########6 | 1.11M/1.29M [00:13<00:02, 86.0kB/s]\n",
      " 87%|########7 | 1.12M/1.29M [00:13<00:01, 88.8kB/s]\n",
      " 89%|########8 | 1.14M/1.29M [00:14<00:01, 87.6kB/s]\n",
      " 90%|########9 | 1.16M/1.29M [00:14<00:01, 91.7kB/s]\n",
      " 91%|#########1| 1.17M/1.29M [00:14<00:01, 94.4kB/s]\n",
      " 92%|#########2| 1.19M/1.29M [00:14<00:01, 95.6kB/s]\n",
      " 94%|#########3| 1.20M/1.29M [00:14<00:00, 97.2kB/s]\n",
      " 95%|#########4| 1.22M/1.29M [00:14<00:00, 97.9kB/s]\n",
      " 96%|#########5| 1.23M/1.29M [00:15<00:00, 94.5kB/s]\n",
      " 97%|#########7| 1.25M/1.29M [00:15<00:00, 97.5kB/s]\n",
      " 98%|#########8| 1.27M/1.29M [00:15<00:00, 97.4kB/s]\n",
      "100%|#########9| 1.28M/1.29M [00:15<00:00, 97.2kB/s]\n",
      "100%|##########| 1.29M/1.29M [00:17<00:00, 78.1kB/s]\n"
     ]
    }
   ],
   "source": [
    "#submitting the result\n",
    "pd.DataFrame({'SK_ID_CURR': skid_test, 'TARGET' : predicted_proba_test}).to_csv('Dominant_Class_Model.csv',index = False)\n",
    "!kaggle competitions submit -c home-credit-default-risk -f Dominant_Class_Model.csv -m \"Predicted probabilities between 0 to 0.5, with a threshold of 0.5\"\n",
    "print('Successfully submitted to Home Credit Default Risk')"
   ]
  },
  {
   "attachments": {
    "image.png": {
     "image/png": "[encoded data removed]"
    }
   },
   "cell_type": "markdown",
   "metadata": {},
   "source": [
    "![image.png](attachment:image.png)\n",
    "\n",
    "* From the above results, we observe that again the AUC remains somewhat the same, which is 0.5.\n",
    "\n",
    "* However, the F1-Score is now 0, because we are not predicting anything as a positive class.\n",
    "\n",
    "* The confusion matrix also shows all points as negative, i.e it has high number of false negtives, but zero false positives.\n",
    "\n",
    "* The Test AUC is also coherent with training, i.e. 0.5074."
   ]
  },
  {
   "cell_type": "markdown",
   "metadata": {},
   "source": [
    "**Logistic Regression L2 Regularization**\n",
    "\n",
    "* In this section, we will use SGDClassifier with log-loss and l2 penalty. We will use GridSearchCV for Hyperparameter Optimization.\n",
    "\n",
    "* We haven't split the data into train and cv yet. We will create the cross-validation data on the fly, i.e during hyperparameter tuning.\n",
    "\n",
    "* For overall predictions on CV, we will use Stratified K-Fold method with predictions as Out-of-fold predictions.\n",
    "\n",
    "* Since we are optimizing the hyperparameters for AUC and also this is the case of imbalanced dataset, we will tune the threshold for best TPR and least TPR, by using J-Statistic."
   ]
  },
  {
   "cell_type": "code",
   "execution_count": 14,
   "metadata": {},
   "outputs": [],
   "source": [
    "class modelling:\n",
    "    '''\n",
    "    Class for Doing Hyperparameter tuning to find best set of hyperparameters, building models on best hyperparams and\n",
    "    displaying results on best hyperparameters.\n",
    "    \n",
    "    It has 4 methods:\n",
    "        1. init method\n",
    "        2. random_search_cv method\n",
    "        3. train_on_best_params method\n",
    "        4. proba_to_class method\n",
    "        5. tune_threshold method\n",
    "        6. results_on_best_params method\n",
    "        7. feat_importances_show method\n",
    "    '''\n",
    "    def __init__(self, base_model, x_train, y_train, x_test, calibration = False, calibration_method = 'isotonic',\n",
    "                 calibration_cv = 4, k_folds = 4, random_state = 982):\n",
    "        '''\n",
    "        Function to initialize the class members.\n",
    "        \n",
    "        Inputs: \n",
    "            self\n",
    "            base_model: estimator/classifier\n",
    "                The base model to be used for the modelling purpose\n",
    "            x_train: numpy array\n",
    "                Training standardized data\n",
    "            y_train: numpy array\n",
    "                Training class labels\n",
    "            x_test: numpy array\n",
    "                Test standardized data\n",
    "            calibration: bool, default = False\n",
    "                Whether to calibrate the model for generating class probabilities\n",
    "            calibration_method: str, default = 'isotonic'\n",
    "                The type of calibration to use, i.e. sigmoid or isotonic\n",
    "            calibration_cv: int, default = 4\n",
    "                Number of cross-validation folds for calibrating the probabilities\n",
    "            k_folds: int, default = 4\n",
    "                Number of cross-validation folds for training and tuning the model\n",
    "            random_state: int, default = 982\n",
    "                Random state for StratifiedKFold for reproducibility\n",
    "                \n",
    "        Returns: \n",
    "            None            \n",
    "        '''\n",
    "        self.base_model = base_model\n",
    "        self.num_folds = k_folds\n",
    "        self.kfolds = StratifiedKFold(n_splits = k_folds, shuffle = True, random_state = random_state)\n",
    "        self.x_train = x_train\n",
    "        self.y_train = y_train\n",
    "        self.x_test = x_test\n",
    "        self.calibration = calibration\n",
    "        if self.calibration:\n",
    "            self.calibration_method = calibration_method\n",
    "            self.calibration_cv = calibration_cv\n",
    "\n",
    "    def random_search_cv(self, hyperparams_dict, n_iter = 30, verbose = True, n_jobs = 1, random_state = 843):\n",
    "        '''\n",
    "        Function to do RandomizedSearchCV on training data.\n",
    "        \n",
    "        Inputs:\n",
    "            self\n",
    "            hyperparams_dict: dict\n",
    "                Dictionary of hyperparameters to tune\n",
    "            n_iter: int, default = 30\n",
    "                Number of iterations to perform for random search\n",
    "            verbose: bool, default = True\n",
    "                Whether to keep verbosity or not\n",
    "            n_jobs: int, default = 1\n",
    "                Number of cores to use for Random Search\n",
    "            random_state: int, default = 843\n",
    "                Random state for reproducibility of RandomizedSearchCV\n",
    "                \n",
    "        Returns:\n",
    "            None\n",
    "        '''\n",
    "        \n",
    "        if verbose:\n",
    "            start = datetime.now()\n",
    "            print(f\"Doing Randomized Search CV on Classifier with {n_iter} random initializations...\")\n",
    "        rscv = RandomizedSearchCV(self.base_model, hyperparams_dict, n_iter = n_iter, scoring = 'roc_auc', \n",
    "                                  cv = self.kfolds, return_train_score = True, verbose = 3,\n",
    "                                  n_jobs = n_jobs, random_state = random_state)\n",
    "        rscv.fit(self.x_train, self.y_train)\n",
    "        if verbose:\n",
    "            print(\"Done.\")\n",
    "            print(f\"Time elapsed = {datetime.now() - start}\")\n",
    "        \n",
    "        #getting the Search Results\n",
    "        self.tuning_results = pd.DataFrame(rscv.cv_results_)\n",
    "        #best model\n",
    "        self.best_model = rscv.best_estimator_\n",
    "        \n",
    "        gc.collect()\n",
    "        \n",
    "    def train_on_best_params(self, verbose = True):\n",
    "        '''\n",
    "        Function to train the model on best hyperparameters obtained from previous method.\n",
    "        Generates Cross-Validation predictions as Out-of-fold predictions\n",
    "        \n",
    "        Inputs:\n",
    "            self\n",
    "            verbose: bool, default = True\n",
    "                Whether to keep verbosity or not\n",
    "        \n",
    "        Returns:\n",
    "            None\n",
    "        '''\n",
    "        \n",
    "        if verbose:\n",
    "            print(\"Fitting Classifier on best parameters\\n\")\n",
    "            print(f\"{self.num_folds}-Fold Cross Validation\")\n",
    "            start = datetime.now()\n",
    "            \n",
    "        self.cv_preds_probas = np.zeros(self.x_train.shape[0])\n",
    "        #we will select a best threshold for each fold of cross-validation and average over the\n",
    "        #folds to find the optimal threshold\n",
    "        self.best_threshold_train = 0\n",
    "        for fold_number, (train_indices, val_indices) in enumerate(self.kfolds.split(self.x_train, self.y_train), 1):\n",
    "            print(train_indices)\n",
    "            print(val_indices)\n",
    "            print(self.x_train)\n",
    "            if verbose:\n",
    "                print(f\"\\tFitting Fold {fold_number}\")\n",
    "                \n",
    "            self.best_model.fit(self.x_train[train_indices], self.y_train[train_indices])\n",
    "            if not self.calibration:\n",
    "                self.train_preds_probas = self.best_model.predict_proba(self.x_train[train_indices])[:,1]\n",
    "                self.cv_preds_probas[val_indices] = self.best_model.predict_proba(self.x_train[val_indices])[:,1]\n",
    "            else:\n",
    "                #fitting the calibration Classifier over the base model for calibrated probabilities\n",
    "                self.calibrated_classifier = CalibratedClassifierCV(self.best_model, method = self.calibration_method, cv = self.calibration_cv)\n",
    "                self.calibrated_classifier.fit(self.x_train[train_indices], self.y_train[train_indices])\n",
    "                \n",
    "                self.train_preds_probas = self.calibrated_classifier.predict_proba(self.x_train[train_indices])[:,1]\n",
    "                self.cv_preds_probas[val_indices] = self.calibrated_classifier.predict_proba(self.x_train[val_indices])[:,1]\n",
    "            \n",
    "            #tuning the threshold for optimal TPR and FPR from ROC Curve\n",
    "            self.best_threshold_train += self.tune_threshold(self.y_train[train_indices], self.train_preds_probas) / self.num_folds\n",
    "        \n",
    "        #converting the class probabilities to class labels\n",
    "        self.cv_preds_class = self.proba_to_class(self.cv_preds_probas, self.best_threshold_train)\n",
    "        \n",
    "        if verbose:\n",
    "            print(\"Done.\")\n",
    "            print(f\"Time elapsed = {datetime.now() - start}\")\n",
    "            \n",
    "        gc.collect()\n",
    "    \n",
    "    def proba_to_class(self, proba, threshold):\n",
    "        '''\n",
    "        Function to convert a given probability to class label based on a threshold value.\n",
    "        '''\n",
    "        return np.where(proba >= threshold, 1, 0)\n",
    "        \n",
    "    def tune_threshold(self, true_labels, predicted_probas):\n",
    "        '''\n",
    "        Function to find the optimal threshold for maximizing the TPR and minimizing the FPR from ROC-AUC Curve.\n",
    "        This is found out by using the J Statistic, which is J = TPR - FPR.\n",
    "        Reference: https://machinelearningmastery.com/threshold-moving-for-imbalanced-classification/\n",
    "        \n",
    "        Inputs:\n",
    "            self\n",
    "            true_labels: numpy array or pandas series\n",
    "                True Class Labels\n",
    "            predicted_probas: numpy array\n",
    "                Predicted Probability of Positive Class label\n",
    "            \n",
    "        Returns:\n",
    "            Threshold probability.\n",
    "        '''\n",
    "        fpr, tpr, threshold = roc_curve(true_labels, predicted_probas)\n",
    "        j_stat = tpr - fpr\n",
    "        index_for_best_threshold = np.argmax(j_stat)\n",
    "        \n",
    "        return threshold[index_for_best_threshold]\n",
    "        \n",
    "    def results_on_best_params(self, model_name):\n",
    "        '''\n",
    "        Function to train the whole data on best parameters and display the results.\n",
    "        \n",
    "        Inputs:\n",
    "            self\n",
    "            model_name: str\n",
    "                model name to get feature importances.\n",
    "        \n",
    "        Returns:\n",
    "            None\n",
    "        '''\n",
    "        #we have to fit the whole model for optimal test predictions\n",
    "        self.best_model.fit(self.x_train, self.y_train)\n",
    "        if not self.calibration:\n",
    "            self.train_preds_probas = self.best_model.predict_proba(self.x_train)[:,1]\n",
    "            self.test_preds_probas = self.best_model.predict_proba(self.x_test)[:,1]\n",
    "        else:\n",
    "            #fitting calibration model over whole training data for test predictions\n",
    "            self.calibrated_classifier.fit(self.x_train, self.y_train)\n",
    "            self.train_preds_probas = self.calibrated_classifier.predict_proba(self.x_train)[:,1]\n",
    "            self.test_preds_probas = self.calibrated_classifier.predict_proba(self.x_test)[:,1]\n",
    "        \n",
    "        #getting class labels from probabilities\n",
    "        self.train_preds_class = self.proba_to_class(self.train_preds_probas, self.best_threshold_train)\n",
    "        self.test_preds_class = self.proba_to_class(self.test_preds_probas, self.best_threshold_train)\n",
    "        \n",
    "        #feature importances\n",
    "        if model_name == 'linear':\n",
    "            self.feat_imp = self.best_model.coef_[0]\n",
    "        else:\n",
    "            self.feat_imp = self.best_model.feature_importances_\n",
    "                \n",
    "        print(\"=\" * 100)\n",
    "        print(f\"\\nThe best selected Threshold as per the J-Statistic, which is J = TPR - FPR, is = {self.best_threshold_train}\\n\")\n",
    "        print(\"Train Results:\")\n",
    "        print(f\"\\tROC-AUC Score = {roc_auc_score(self.y_train, self.train_preds_probas)}\")\n",
    "        print(f\"\\tPrecision Score = {precision_score(self.y_train, self.train_preds_class)}\")\n",
    "        print(f\"\\tRecall Score = {recall_score(self.y_train, self.train_preds_class)}\")\n",
    "        print(\"CV Results:\")\n",
    "        print(f\"\\tROC-AUC Score = {roc_auc_score(self.y_train, self.cv_preds_probas)}\")\n",
    "        print(f\"\\tPrecision Score = {precision_score(self.y_train, self.cv_preds_class)}\")\n",
    "        print(f\"\\tRecall Score = {recall_score(self.y_train, self.cv_preds_class)}\")\n",
    "\n",
    "        print('=' * 100)\n",
    "        print(\"Confusion Matrix of CV data:\")\n",
    "        conf_mat = confusion_matrix(self.y_train, self.cv_preds_class)\n",
    "        conf_mat = pd.DataFrame(conf_mat, columns = ['Predicted_0','Predicted_1'], index = ['Actual_0','Actual_1'])\n",
    "        plt.figure(figsize = (7,6))\n",
    "        plt.title('Confusion Matrix Heatmap')\n",
    "        sns.heatmap(conf_mat, annot = True, fmt = 'g', linewidth = 0.5, annot_kws = {'size' : 15})\n",
    "        plt.show()\n",
    "        \n",
    "        print('=' * 100)\n",
    "        print(\"Distribution of Original Class Labels and Predicted CV and Test Class Labels\")\n",
    "        plt.figure(figsize = (20,6))\n",
    "        plt.subplot(1,3,1)\n",
    "        plt.title('Class Distribution of Original Dataset')\n",
    "        sns.countplot(self.y_train)\n",
    "        plt.subplot(1,3,2)\n",
    "        plt.title('Class Distribution of predicted Class Labels on CV')\n",
    "        sns.countplot(self.cv_preds_class)\n",
    "        plt.subplot(1,3,3)\n",
    "        plt.title('Class Distribution of predicted Test Dataset')\n",
    "        sns.countplot(self.test_preds_class)\n",
    "        plt.show()\n",
    "        print('=' * 100)\n",
    "        \n",
    "        gc.collect()\n",
    "        \n",
    "    def feat_importances_show(self, feature_names, num_features, figsize = (10,15)):\n",
    "        '''\n",
    "        Function to display the top most important features.\n",
    "        \n",
    "        Inputs:\n",
    "            self\n",
    "            feature_names: numpy array\n",
    "                Names of features of training set\n",
    "            num_features: int\n",
    "                Number of top features importances to display\n",
    "            figsize: tuple, default = (10,15)\n",
    "                Size of figure to be displayed\n",
    "            \n",
    "        Returns:\n",
    "            None\n",
    "        '''\n",
    "        \n",
    "        #getting the top features indices and their names\n",
    "        top_feats_indices = np.argsort(self.feat_imp)[::-1][:num_features]\n",
    "        feat_importance_top = self.feat_imp[top_feats_indices]\n",
    "        column_names = feature_names[top_feats_indices]\n",
    "        \n",
    "        #plotting a horizontal bar plot of feature importances\n",
    "        plt.figure(figsize = figsize) \n",
    "        sns.barplot(feat_importance_top, list(range(num_features)), orient = 'h')\n",
    "        plt.yticks(list(range(50)), column_names)\n",
    "        plt.title(f'Top {num_features} features as per classifier')\n",
    "        plt.xlabel('Feature Importance')\n",
    "        plt.ylabel('Feature Names')\n",
    "        plt.grid()\n",
    "        plt.show()\n",
    "        print('=' * 100)\n",
    "        \n",
    "        gc.collect()"
   ]
  },
  {
   "cell_type": "code",
   "execution_count": 15,
   "metadata": {},
   "outputs": [
    {
     "name": "stdout",
     "output_type": "stream",
     "text": [
      "Doing Randomized Search CV on Classifier with 15 random initializations...\n",
      "Fitting 4 folds for each of 15 candidates, totalling 60 fits\n"
     ]
    },
    {
     "name": "stderr",
     "output_type": "stream",
     "text": [
      "[Parallel(n_jobs=2)]: Using backend LokyBackend with 2 concurrent workers.\n",
      "[Parallel(n_jobs=2)]: Done  28 tasks      | elapsed: 51.1min\n",
      "[Parallel(n_jobs=2)]: Done  60 out of  60 | elapsed: 109.5min finished\n"
     ]
    },
    {
     "name": "stdout",
     "output_type": "stream",
     "text": [
      "Done.\n",
      "Time elapsed = 1:50:10.967777\n"
     ]
    },
    {
     "data": {
      "image/png": "[encoded data removed]",
      "text/plain": [
       "<Figure size 648x432 with 1 Axes>"
      ]
     },
     "metadata": {},
     "output_type": "display_data"
    }
   ],
   "source": [
    "params = {\n",
    "    'loss' : 'log',\n",
    "    'penalty' : 'l2',\n",
    "    'random_state' : 98,\n",
    "    'class_weight' : 'balanced',\n",
    "    'n_jobs' : -1\n",
    "}\n",
    "clf = SGDClassifier(**params)\n",
    "hyperparams = {'alpha' : np.logspace(-4,2)}\n",
    "\n",
    "sgd_lr_l2 = modelling(clf, x_train_std, y_train, x_test_std)\n",
    "\n",
    "#lets do randomized search cv first\n",
    "sgd_lr_l2.random_search_cv(hyperparams, n_iter = 15, n_jobs = 2)\n",
    "\n",
    "#visualizing the cv results\n",
    "cv_results = sgd_lr_l2.tuning_results\n",
    "cv_results = cv_results.sort_values('param_alpha')\n",
    "\n",
    "#plotting the train and cv scores\n",
    "plt.figure(figsize = (9,6))\n",
    "plt.plot(cv_results['param_alpha'], cv_results['mean_train_score'], label = 'Train Score')\n",
    "plt.plot(cv_results['param_alpha'], cv_results['mean_test_score'], label = 'CV Score')\n",
    "plt.title('Hyperparameter Alpha vs ROC-AUC Score')\n",
    "plt.xlabel('Alpha')\n",
    "plt.ylabel('ROC-AUC Score')\n",
    "plt.legend()\n",
    "plt.grid()\n",
    "plt.xscale('log')\n",
    "plt.show()"
   ]
  },
  {
   "cell_type": "code",
   "execution_count": 16,
   "metadata": {},
   "outputs": [
    {
     "name": "stdout",
     "output_type": "stream",
     "text": [
      "Fitting Classifier on best parameters\n",
      "\n",
      "4-Fold Cross Validation\n",
      "[     1      2      3 ... 307504 307505 307506]\n",
      "[     0      7     11 ... 307489 307495 307500]\n",
      "[[ 0.38042963  0.          0.07548028 ... -1.38816188  0.9316751\n",
      "  -2.06453766]\n",
      " [-0.99940439  0.          0.61307313 ...  0.72037708 -0.82264455\n",
      "  -1.48050075]\n",
      " [ 1.42135704  0.          0.5712913  ... -1.38816188  0.\n",
      "  -2.64857457]\n",
      " ...\n",
      " [-0.8541587   0.          0.61307313 ...  0.72037708  0.\n",
      "  -0.31242693]\n",
      " [-0.8541587   0.         -0.70026898 ...  0.72037708  0.\n",
      "   0.85564689]\n",
      " [-0.99940439  0.          0.24678577 ...  0.72037708 -0.0660168\n",
      "  -0.31242693]]\n",
      "\tFitting Fold 1\n"
     ]
    },
    {
     "ename": "ValueError",
     "evalue": "Input contains NaN, infinity or a value too large for dtype('float64').",
     "output_type": "error",
     "traceback": [
      "\u001b[1;31m---------------------------------------------------------------------------\u001b[0m",
      "\u001b[1;31mValueError\u001b[0m                                Traceback (most recent call last)",
      "\u001b[1;32m<ipython-input-16-c5e270dffbc7>\u001b[0m in \u001b[0;36m<module>\u001b[1;34m\u001b[0m\n\u001b[0;32m      1\u001b[0m \u001b[1;31m#training on best parameters\u001b[0m\u001b[1;33m\u001b[0m\u001b[1;33m\u001b[0m\u001b[1;33m\u001b[0m\u001b[0m\n\u001b[1;32m----> 2\u001b[1;33m \u001b[0msgd_lr_l2\u001b[0m\u001b[1;33m.\u001b[0m\u001b[0mtrain_on_best_params\u001b[0m\u001b[1;33m(\u001b[0m\u001b[1;33m)\u001b[0m\u001b[1;33m\u001b[0m\u001b[1;33m\u001b[0m\u001b[0m\n\u001b[0m\u001b[0;32m      3\u001b[0m \u001b[1;31m#showing the results\u001b[0m\u001b[1;33m\u001b[0m\u001b[1;33m\u001b[0m\u001b[1;33m\u001b[0m\u001b[0m\n\u001b[0;32m      4\u001b[0m \u001b[0msgd_lr_l2\u001b[0m\u001b[1;33m.\u001b[0m\u001b[0mresults_on_best_params\u001b[0m\u001b[1;33m(\u001b[0m\u001b[1;34m'linear'\u001b[0m\u001b[1;33m)\u001b[0m\u001b[1;33m\u001b[0m\u001b[1;33m\u001b[0m\u001b[0m\n\u001b[0;32m      5\u001b[0m \u001b[1;31m#plotting feature importances\u001b[0m\u001b[1;33m\u001b[0m\u001b[1;33m\u001b[0m\u001b[1;33m\u001b[0m\u001b[0m\n",
      "\u001b[1;32m<ipython-input-14-53a17e8c953f>\u001b[0m in \u001b[0;36mtrain_on_best_params\u001b[1;34m(self, verbose)\u001b[0m\n\u001b[0;32m    122\u001b[0m                 \u001b[0mprint\u001b[0m\u001b[1;33m(\u001b[0m\u001b[1;34mf\"\\tFitting Fold {fold_number}\"\u001b[0m\u001b[1;33m)\u001b[0m\u001b[1;33m\u001b[0m\u001b[1;33m\u001b[0m\u001b[0m\n\u001b[0;32m    123\u001b[0m \u001b[1;33m\u001b[0m\u001b[0m\n\u001b[1;32m--> 124\u001b[1;33m             \u001b[0mself\u001b[0m\u001b[1;33m.\u001b[0m\u001b[0mbest_model\u001b[0m\u001b[1;33m.\u001b[0m\u001b[0mfit\u001b[0m\u001b[1;33m(\u001b[0m\u001b[0mself\u001b[0m\u001b[1;33m.\u001b[0m\u001b[0mx_train\u001b[0m\u001b[1;33m[\u001b[0m\u001b[0mtrain_indices\u001b[0m\u001b[1;33m]\u001b[0m\u001b[1;33m,\u001b[0m \u001b[0mself\u001b[0m\u001b[1;33m.\u001b[0m\u001b[0my_train\u001b[0m\u001b[1;33m[\u001b[0m\u001b[0mtrain_indices\u001b[0m\u001b[1;33m]\u001b[0m\u001b[1;33m)\u001b[0m\u001b[1;33m\u001b[0m\u001b[1;33m\u001b[0m\u001b[0m\n\u001b[0m\u001b[0;32m    125\u001b[0m             \u001b[1;32mif\u001b[0m \u001b[1;32mnot\u001b[0m \u001b[0mself\u001b[0m\u001b[1;33m.\u001b[0m\u001b[0mcalibration\u001b[0m\u001b[1;33m:\u001b[0m\u001b[1;33m\u001b[0m\u001b[1;33m\u001b[0m\u001b[0m\n\u001b[0;32m    126\u001b[0m                 \u001b[0mself\u001b[0m\u001b[1;33m.\u001b[0m\u001b[0mtrain_preds_probas\u001b[0m \u001b[1;33m=\u001b[0m \u001b[0mself\u001b[0m\u001b[1;33m.\u001b[0m\u001b[0mbest_model\u001b[0m\u001b[1;33m.\u001b[0m\u001b[0mpredict_proba\u001b[0m\u001b[1;33m(\u001b[0m\u001b[0mself\u001b[0m\u001b[1;33m.\u001b[0m\u001b[0mx_train\u001b[0m\u001b[1;33m[\u001b[0m\u001b[0mtrain_indices\u001b[0m\u001b[1;33m]\u001b[0m\u001b[1;33m)\u001b[0m\u001b[1;33m[\u001b[0m\u001b[1;33m:\u001b[0m\u001b[1;33m,\u001b[0m\u001b[1;36m1\u001b[0m\u001b[1;33m]\u001b[0m\u001b[1;33m\u001b[0m\u001b[1;33m\u001b[0m\u001b[0m\n",
      "\u001b[1;32mC:\\Anaconda3\\lib\\site-packages\\sklearn\\linear_model\\_stochastic_gradient.py\u001b[0m in \u001b[0;36mfit\u001b[1;34m(self, X, y, coef_init, intercept_init, sample_weight)\u001b[0m\n\u001b[0;32m    723\u001b[0m             \u001b[0mReturns\u001b[0m \u001b[0man\u001b[0m \u001b[0minstance\u001b[0m \u001b[0mof\u001b[0m \u001b[0mself\u001b[0m\u001b[1;33m.\u001b[0m\u001b[1;33m\u001b[0m\u001b[1;33m\u001b[0m\u001b[0m\n\u001b[0;32m    724\u001b[0m         \"\"\"\n\u001b[1;32m--> 725\u001b[1;33m         return self._fit(X, y, alpha=self.alpha, C=1.0,\n\u001b[0m\u001b[0;32m    726\u001b[0m                          \u001b[0mloss\u001b[0m\u001b[1;33m=\u001b[0m\u001b[0mself\u001b[0m\u001b[1;33m.\u001b[0m\u001b[0mloss\u001b[0m\u001b[1;33m,\u001b[0m \u001b[0mlearning_rate\u001b[0m\u001b[1;33m=\u001b[0m\u001b[0mself\u001b[0m\u001b[1;33m.\u001b[0m\u001b[0mlearning_rate\u001b[0m\u001b[1;33m,\u001b[0m\u001b[1;33m\u001b[0m\u001b[1;33m\u001b[0m\u001b[0m\n\u001b[0;32m    727\u001b[0m                          \u001b[0mcoef_init\u001b[0m\u001b[1;33m=\u001b[0m\u001b[0mcoef_init\u001b[0m\u001b[1;33m,\u001b[0m \u001b[0mintercept_init\u001b[0m\u001b[1;33m=\u001b[0m\u001b[0mintercept_init\u001b[0m\u001b[1;33m,\u001b[0m\u001b[1;33m\u001b[0m\u001b[1;33m\u001b[0m\u001b[0m\n",
      "\u001b[1;32mC:\\Anaconda3\\lib\\site-packages\\sklearn\\linear_model\\_stochastic_gradient.py\u001b[0m in \u001b[0;36m_fit\u001b[1;34m(self, X, y, alpha, C, loss, learning_rate, coef_init, intercept_init, sample_weight)\u001b[0m\n\u001b[0;32m    537\u001b[0m             \u001b[0mself\u001b[0m\u001b[1;33m.\u001b[0m\u001b[0mclasses_\u001b[0m \u001b[1;33m=\u001b[0m \u001b[1;32mNone\u001b[0m\u001b[1;33m\u001b[0m\u001b[1;33m\u001b[0m\u001b[0m\n\u001b[0;32m    538\u001b[0m \u001b[1;33m\u001b[0m\u001b[0m\n\u001b[1;32m--> 539\u001b[1;33m         X, y = self._validate_data(X, y, accept_sparse='csr',\n\u001b[0m\u001b[0;32m    540\u001b[0m                                    \u001b[0mdtype\u001b[0m\u001b[1;33m=\u001b[0m\u001b[0mnp\u001b[0m\u001b[1;33m.\u001b[0m\u001b[0mfloat64\u001b[0m\u001b[1;33m,\u001b[0m \u001b[0morder\u001b[0m\u001b[1;33m=\u001b[0m\u001b[1;34m\"C\"\u001b[0m\u001b[1;33m,\u001b[0m\u001b[1;33m\u001b[0m\u001b[1;33m\u001b[0m\u001b[0m\n\u001b[0;32m    541\u001b[0m                                    accept_large_sparse=False)\n",
      "\u001b[1;32mC:\\Anaconda3\\lib\\site-packages\\sklearn\\base.py\u001b[0m in \u001b[0;36m_validate_data\u001b[1;34m(self, X, y, reset, validate_separately, **check_params)\u001b[0m\n\u001b[0;32m    430\u001b[0m                 \u001b[0my\u001b[0m \u001b[1;33m=\u001b[0m \u001b[0mcheck_array\u001b[0m\u001b[1;33m(\u001b[0m\u001b[0my\u001b[0m\u001b[1;33m,\u001b[0m \u001b[1;33m**\u001b[0m\u001b[0mcheck_y_params\u001b[0m\u001b[1;33m)\u001b[0m\u001b[1;33m\u001b[0m\u001b[1;33m\u001b[0m\u001b[0m\n\u001b[0;32m    431\u001b[0m             \u001b[1;32melse\u001b[0m\u001b[1;33m:\u001b[0m\u001b[1;33m\u001b[0m\u001b[1;33m\u001b[0m\u001b[0m\n\u001b[1;32m--> 432\u001b[1;33m                 \u001b[0mX\u001b[0m\u001b[1;33m,\u001b[0m \u001b[0my\u001b[0m \u001b[1;33m=\u001b[0m \u001b[0mcheck_X_y\u001b[0m\u001b[1;33m(\u001b[0m\u001b[0mX\u001b[0m\u001b[1;33m,\u001b[0m \u001b[0my\u001b[0m\u001b[1;33m,\u001b[0m \u001b[1;33m**\u001b[0m\u001b[0mcheck_params\u001b[0m\u001b[1;33m)\u001b[0m\u001b[1;33m\u001b[0m\u001b[1;33m\u001b[0m\u001b[0m\n\u001b[0m\u001b[0;32m    433\u001b[0m             \u001b[0mout\u001b[0m \u001b[1;33m=\u001b[0m \u001b[0mX\u001b[0m\u001b[1;33m,\u001b[0m \u001b[0my\u001b[0m\u001b[1;33m\u001b[0m\u001b[1;33m\u001b[0m\u001b[0m\n\u001b[0;32m    434\u001b[0m \u001b[1;33m\u001b[0m\u001b[0m\n",
      "\u001b[1;32mC:\\Anaconda3\\lib\\site-packages\\sklearn\\utils\\validation.py\u001b[0m in \u001b[0;36minner_f\u001b[1;34m(*args, **kwargs)\u001b[0m\n\u001b[0;32m     70\u001b[0m                           FutureWarning)\n\u001b[0;32m     71\u001b[0m         \u001b[0mkwargs\u001b[0m\u001b[1;33m.\u001b[0m\u001b[0mupdate\u001b[0m\u001b[1;33m(\u001b[0m\u001b[1;33m{\u001b[0m\u001b[0mk\u001b[0m\u001b[1;33m:\u001b[0m \u001b[0marg\u001b[0m \u001b[1;32mfor\u001b[0m \u001b[0mk\u001b[0m\u001b[1;33m,\u001b[0m \u001b[0marg\u001b[0m \u001b[1;32min\u001b[0m \u001b[0mzip\u001b[0m\u001b[1;33m(\u001b[0m\u001b[0msig\u001b[0m\u001b[1;33m.\u001b[0m\u001b[0mparameters\u001b[0m\u001b[1;33m,\u001b[0m \u001b[0margs\u001b[0m\u001b[1;33m)\u001b[0m\u001b[1;33m}\u001b[0m\u001b[1;33m)\u001b[0m\u001b[1;33m\u001b[0m\u001b[1;33m\u001b[0m\u001b[0m\n\u001b[1;32m---> 72\u001b[1;33m         \u001b[1;32mreturn\u001b[0m \u001b[0mf\u001b[0m\u001b[1;33m(\u001b[0m\u001b[1;33m**\u001b[0m\u001b[0mkwargs\u001b[0m\u001b[1;33m)\u001b[0m\u001b[1;33m\u001b[0m\u001b[1;33m\u001b[0m\u001b[0m\n\u001b[0m\u001b[0;32m     73\u001b[0m     \u001b[1;32mreturn\u001b[0m \u001b[0minner_f\u001b[0m\u001b[1;33m\u001b[0m\u001b[1;33m\u001b[0m\u001b[0m\n\u001b[0;32m     74\u001b[0m \u001b[1;33m\u001b[0m\u001b[0m\n",
      "\u001b[1;32mC:\\Anaconda3\\lib\\site-packages\\sklearn\\utils\\validation.py\u001b[0m in \u001b[0;36mcheck_X_y\u001b[1;34m(X, y, accept_sparse, accept_large_sparse, dtype, order, copy, force_all_finite, ensure_2d, allow_nd, multi_output, ensure_min_samples, ensure_min_features, y_numeric, estimator)\u001b[0m\n\u001b[0;32m    806\u001b[0m     \u001b[1;32melse\u001b[0m\u001b[1;33m:\u001b[0m\u001b[1;33m\u001b[0m\u001b[1;33m\u001b[0m\u001b[0m\n\u001b[0;32m    807\u001b[0m         \u001b[0my\u001b[0m \u001b[1;33m=\u001b[0m \u001b[0mcolumn_or_1d\u001b[0m\u001b[1;33m(\u001b[0m\u001b[0my\u001b[0m\u001b[1;33m,\u001b[0m \u001b[0mwarn\u001b[0m\u001b[1;33m=\u001b[0m\u001b[1;32mTrue\u001b[0m\u001b[1;33m)\u001b[0m\u001b[1;33m\u001b[0m\u001b[1;33m\u001b[0m\u001b[0m\n\u001b[1;32m--> 808\u001b[1;33m         \u001b[0m_assert_all_finite\u001b[0m\u001b[1;33m(\u001b[0m\u001b[0my\u001b[0m\u001b[1;33m)\u001b[0m\u001b[1;33m\u001b[0m\u001b[1;33m\u001b[0m\u001b[0m\n\u001b[0m\u001b[0;32m    809\u001b[0m     \u001b[1;32mif\u001b[0m \u001b[0my_numeric\u001b[0m \u001b[1;32mand\u001b[0m \u001b[0my\u001b[0m\u001b[1;33m.\u001b[0m\u001b[0mdtype\u001b[0m\u001b[1;33m.\u001b[0m\u001b[0mkind\u001b[0m \u001b[1;33m==\u001b[0m \u001b[1;34m'O'\u001b[0m\u001b[1;33m:\u001b[0m\u001b[1;33m\u001b[0m\u001b[1;33m\u001b[0m\u001b[0m\n\u001b[0;32m    810\u001b[0m         \u001b[0my\u001b[0m \u001b[1;33m=\u001b[0m \u001b[0my\u001b[0m\u001b[1;33m.\u001b[0m\u001b[0mastype\u001b[0m\u001b[1;33m(\u001b[0m\u001b[0mnp\u001b[0m\u001b[1;33m.\u001b[0m\u001b[0mfloat64\u001b[0m\u001b[1;33m)\u001b[0m\u001b[1;33m\u001b[0m\u001b[1;33m\u001b[0m\u001b[0m\n",
      "\u001b[1;32mC:\\Anaconda3\\lib\\site-packages\\sklearn\\utils\\validation.py\u001b[0m in \u001b[0;36m_assert_all_finite\u001b[1;34m(X, allow_nan, msg_dtype)\u001b[0m\n\u001b[0;32m     94\u001b[0m                 not allow_nan and not np.isfinite(X).all()):\n\u001b[0;32m     95\u001b[0m             \u001b[0mtype_err\u001b[0m \u001b[1;33m=\u001b[0m \u001b[1;34m'infinity'\u001b[0m \u001b[1;32mif\u001b[0m \u001b[0mallow_nan\u001b[0m \u001b[1;32melse\u001b[0m \u001b[1;34m'NaN, infinity'\u001b[0m\u001b[1;33m\u001b[0m\u001b[1;33m\u001b[0m\u001b[0m\n\u001b[1;32m---> 96\u001b[1;33m             raise ValueError(\n\u001b[0m\u001b[0;32m     97\u001b[0m                     \u001b[0mmsg_err\u001b[0m\u001b[1;33m.\u001b[0m\u001b[0mformat\u001b[0m\u001b[1;33m\u001b[0m\u001b[1;33m\u001b[0m\u001b[0m\n\u001b[0;32m     98\u001b[0m                     (type_err,\n",
      "\u001b[1;31mValueError\u001b[0m: Input contains NaN, infinity or a value too large for dtype('float64')."
     ]
    }
   ],
   "source": [
    "#training on best parameters\n",
    "sgd_lr_l2.train_on_best_params()\n",
    "#showing the results\n",
    "sgd_lr_l2.results_on_best_params('linear')\n",
    "#plotting feature importances\n",
    "sgd_lr_l2.feat_importances_show(train_data.columns, num_features = 50)"
   ]
  },
  {
   "cell_type": "code",
   "execution_count": null,
   "metadata": {},
   "outputs": [],
   "source": []
  }
 ],
 "metadata": {
  "kernelspec": {
   "display_name": "Python 3",
   "language": "python",
   "name": "python3"
  },
  "language_info": {
   "codemirror_mode": {
    "name": "ipython",
    "version": 3
   },
   "file_extension": ".py",
   "mimetype": "text/x-python",
   "name": "python",
   "nbconvert_exporter": "python",
   "pygments_lexer": "ipython3",
   "version": "3.8.5"
  }
 },
 "nbformat": 4,
 "nbformat_minor": 4
}
